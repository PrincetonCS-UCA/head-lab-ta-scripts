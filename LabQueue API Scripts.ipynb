{
 "cells": [
  {
   "cell_type": "markdown",
   "id": "87cf97ef",
   "metadata": {},
   "source": [
    "# LabQueue API Scripts"
   ]
  },
  {
   "cell_type": "code",
   "execution_count": null,
   "id": "77046f6c",
   "metadata": {},
   "outputs": [],
   "source": [
    "from wsse.client.requests.auth import WSSEAuth\n",
    "import requests\n",
    "import matplotlib.pyplot as plt\n",
    "import pandas as pd\n",
    "import numpy as np\n",
    "import pprint"
   ]
  },
  {
   "cell_type": "code",
   "execution_count": null,
   "id": "d3235e8b",
   "metadata": {},
   "outputs": [],
   "source": [
    "username = \"\" # e.g. \"cas-princeton-atli\"\n",
    "API_SECRET = \"\"\n",
    "wsse_auth = WSSEAuth(username, API_SECRET)\n",
    "base_url = \"https://www.labqueue.io/api/v1/\""
   ]
  },
  {
   "cell_type": "markdown",
   "id": "253a7f6f",
   "metadata": {},
   "source": [
    "### Check a single Lab TA's requests"
   ]
  },
  {
   "cell_type": "code",
   "execution_count": null,
   "id": "1532dcbd",
   "metadata": {},
   "outputs": [],
   "source": [
    "# get the requests that were accepted by a particular Lab TA\n",
    "netid = \"\"\n",
    "# time must be like the following format \"yyyy-mm-ddThh:mm\"\n",
    "time = \"2022-09-01T00:00\"\n",
    "\n",
    "payload = {\"accepted_by\": netid, \"accepted_after\": time, }\n",
    "\n",
    "result = requests.get(base_url + \"requests/query/\", auth=wsse_auth, params=payload)\n",
    "pprint.pprint(result.json())"
   ]
  },
  {
   "cell_type": "code",
   "execution_count": null,
   "id": "7d36caec",
   "metadata": {},
   "outputs": [],
   "source": [
    "# for specifying more specifics such as start and end or course\n",
    "curr_day_start = \"2022-03-20T20:00\"\n",
    "curr_day_end = \"2022-03-20T22:00\"\n",
    "\n",
    "# payload = {\"created_after\": curr_day_start, \"created_before\": curr_day_end, \"course\": \"217\"}\n",
    "payload = {\"created_after\": curr_day_start, \"created_before\": curr_day_end, \"accepted_by\": netid}\n",
    "result = requests.get(base_url + \"requests/query/\", auth=wsse_auth, params=payload)\n",
    "pprint.pprint(result.json())"
   ]
  },
  {
   "cell_type": "markdown",
   "id": "09adf1ff",
   "metadata": {},
   "source": [
    "### Look at the distribution of requests across all Lab TAs"
   ]
  },
  {
   "cell_type": "code",
   "execution_count": null,
   "id": "0e4592c8",
   "metadata": {},
   "outputs": [],
   "source": [
    "# look at the number of requests accepted across all Lab TAs\n",
    "\n",
    "roster = requests.get(base_url + \"queues/intro-cs-lab/roster/\", auth=wsse_auth)\n",
    "time = \"2022-09-01T00:00\"\n",
    "\n",
    "num_requests = []\n",
    "\n",
    "for lab_ta in roster.json()[\"results\"]:\n",
    "    # query for the accpeted requests\n",
    "    payload = {\"accepted_by\": lab_ta[\"netid\"], \"accepted_after\": time}\n",
    "    \n",
    "    result = requests.get(base_url + \"requests/query/\", auth=wsse_auth, params=payload)\n",
    "    \n",
    "    num_requests.append(result.json()[\"count\"])\n",
    "\n",
    "print(num_requests)\n",
    "    \n",
    "plt.hist(num_requests)\n",
    "plt.show()"
   ]
  },
  {
   "cell_type": "markdown",
   "id": "20581661",
   "metadata": {},
   "source": [
    "### Look at the number of requests across day of the week"
   ]
  },
  {
   "cell_type": "code",
   "execution_count": null,
   "id": "96658fad",
   "metadata": {},
   "outputs": [],
   "source": [
    "# look at the number of requests across the day of the week\n",
    "import datetime\n",
    "start_date = datetime.date(year=2022, month=9, day=1)\n",
    "end_date = datetime.date(year=2022, month=10, day=16)\n",
    "delta = datetime.timedelta(days=1)\n",
    "\n",
    "# make sure to separate 126, 226/217\n",
    "# index 0 is monday, 1 is tuesday, ..., 6 is sunday\n",
    "day_of_week_count = {\"126\": [0]*7, \"226\": [0]*7, \"217\": [0]*7}\n",
    "\n",
    "# loop from start_date to end_date\n",
    "curr_day = start_date\n",
    "while curr_day <= end_date:\n",
    "    print(curr_day)\n",
    "    \n",
    "    curr_day_start = curr_day.strftime(\"%Y-%m-%dT00:00\")\n",
    "    curr_day_end = curr_day.strftime(\"%Y-%m-%dT23:59\")\n",
    "\n",
    "    # get the requests on that day\n",
    "    # do each course separately\n",
    "    for course_name in [\"126\", \"226\", \"217\"]:\n",
    "        payload = {\"created_after\": curr_day_start, \"created_before\": curr_day_end, \"course\": course_name}\n",
    "        result = requests.get(base_url + \"requests/query/\", auth=wsse_auth, params=payload)\n",
    "        \n",
    "        day_of_week_count[course_name][curr_day.weekday()] += result.json()[\"count\"]\n",
    "\n",
    "    \n",
    "    curr_day += delta\n",
    "\n",
    "print(day_of_week_count)"
   ]
  },
  {
   "cell_type": "code",
   "execution_count": null,
   "id": "b1eac034",
   "metadata": {},
   "outputs": [],
   "source": [
    "labels = (\"Mon\", \"Tues\", \"Wed\", \"Thurs\", \"Fri\", \"Sat\", \"Sun\")\n",
    "plt.bar(np.arange(len(labels)), day_of_week_count[\"126\"], align=\"center\")\n",
    "plt.xticks(np.arange(len(labels)), labels)\n",
    "plt.ylabel(\"Count\")\n",
    "plt.title(\"COS126 Lab Requests by Day of Week\")\n",
    "plt.show()"
   ]
  },
  {
   "cell_type": "code",
   "execution_count": null,
   "id": "91dcb43b",
   "metadata": {},
   "outputs": [],
   "source": [
    "day_of_week_count_2xx = np.array(day_of_week_count[\"226\"]) + np.array(day_of_week_count[\"217\"])\n",
    "\n",
    "plt.bar(np.arange(len(labels)), day_of_week_count_2xx, align=\"center\")\n",
    "plt.xticks(np.arange(len(labels)), labels)\n",
    "plt.ylabel(\"Count\")\n",
    "plt.title(\"COS2xx Lab Requests by Day of Week\")\n",
    "plt.show()"
   ]
  }
 ],
 "metadata": {
  "kernelspec": {
   "display_name": "Python 3",
   "language": "python",
   "name": "python3"
  },
  "language_info": {
   "codemirror_mode": {
    "name": "ipython",
    "version": 3
   },
   "file_extension": ".py",
   "mimetype": "text/x-python",
   "name": "python",
   "nbconvert_exporter": "python",
   "pygments_lexer": "ipython3",
   "version": "3.7.11"
  }
 },
 "nbformat": 4,
 "nbformat_minor": 5
}
